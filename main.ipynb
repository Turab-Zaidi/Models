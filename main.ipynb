{
 "cells": [
  {
   "cell_type": "code",
   "execution_count": 2,
   "metadata": {},
   "outputs": [
    {
     "name": "stdout",
     "output_type": "stream",
     "text": [
      "Note: you may need to restart the kernel to use updated packages.\n"
     ]
    },
    {
     "name": "stderr",
     "output_type": "stream",
     "text": [
      "\n",
      "[notice] A new release of pip is available: 23.0.1 -> 24.0\n",
      "[notice] To update, run: python.exe -m pip install --upgrade pip\n"
     ]
    }
   ],
   "source": [
    "%pip install -q cassio datasets langchain openai tiktoken"
   ]
  },
  {
   "cell_type": "code",
   "execution_count": 8,
   "metadata": {},
   "outputs": [
    {
     "name": "stderr",
     "output_type": "stream",
     "text": [
      "c:\\Users\\manun\\AppData\\Local\\Programs\\Python\\Python311\\Lib\\site-packages\\tqdm\\auto.py:21: TqdmWarning: IProgress not found. Please update jupyter and ipywidgets. See https://ipywidgets.readthedocs.io/en/stable/user_install.html\n",
      "  from .autonotebook import tqdm as notebook_tqdm\n"
     ]
    }
   ],
   "source": [
    "from langchain.vectorstores.cassandra import Cassandra\n",
    "from langchain.indexes.vectorstore import VectorStoreIndexWrapper\n",
    "from langchain.llms import OpenAI\n",
    "from langchain.embeddings import OpenAIEmbeddings\n",
    "\n",
    "from datasets import load_dataset\n",
    "\n",
    "import cassio"
   ]
  },
  {
   "cell_type": "code",
   "execution_count": 4,
   "metadata": {},
   "outputs": [
    {
     "name": "stdout",
     "output_type": "stream",
     "text": [
      "Collecting PyPDF2\n",
      "  Downloading pypdf2-3.0.1-py3-none-any.whl (232 kB)\n",
      "     ---------------------------------------- 0.0/232.6 kB ? eta -:--:--\n",
      "     -------------------------------------- 232.6/232.6 kB 7.2 MB/s eta 0:00:00\n",
      "Installing collected packages: PyPDF2\n",
      "Successfully installed PyPDF2-3.0.1\n",
      "Note: you may need to restart the kernel to use updated packages.\n"
     ]
    },
    {
     "name": "stderr",
     "output_type": "stream",
     "text": [
      "\n",
      "[notice] A new release of pip is available: 23.0.1 -> 24.0\n",
      "[notice] To update, run: python.exe -m pip install --upgrade pip\n"
     ]
    }
   ],
   "source": [
    "%pip install PyPDF2"
   ]
  },
  {
   "cell_type": "code",
   "execution_count": 3,
   "metadata": {},
   "outputs": [],
   "source": [
    "from PyPDF2 import PdfReader"
   ]
  },
  {
   "cell_type": "code",
   "execution_count": 1,
   "metadata": {},
   "outputs": [],
   "source": [
    "ASTRA_DB_APPLICATION_TOKEN =  \"AstraCS:vZPjBkdaZnmqrOTF-----------------------bd50cb048a26fc7b7d\"\n",
    "ASTRA_DB_ID = 'fb1d810a-a-------------------e0'\n",
    "\n",
    "OPENAI_API_KEY = 'sk-tybb3Z04j8bIiO7-------------------k8'"
   ]
  },
  {
   "cell_type": "code",
   "execution_count": 4,
   "metadata": {},
   "outputs": [],
   "source": [
    "pdf = PdfReader(\"finance.pdf\")"
   ]
  },
  {
   "cell_type": "code",
   "execution_count": 5,
   "metadata": {},
   "outputs": [],
   "source": [
    "from typing_extensions import Concatenate\n",
    "\n",
    "text = \"\"\n",
    "\n",
    "for page in pdf.pages:\n",
    "    content = page.extract_text()\n",
    "    if content:\n",
    "        text += content\n",
    "\n"
   ]
  },
  {
   "cell_type": "code",
   "execution_count": 6,
   "metadata": {},
   "outputs": [
    {
     "data": {
      "text/plain": [
       "\"Chapter 1\\nIntroduction to Finance\\nRoad Map\\nPart A Introduction to ﬁnance.\\n•Financial decisions and ﬁnancial markets.\\n•Present value.\\nPart B Valuation of assets, given discount rates.\\nPart C Determination of risk-adjusted discount rates.\\nPart D Introduction to derivatives.\\nMain Issues\\n•What Is Finance\\n•Valuation of Assets\\n–Opportunity Cost of Capital\\n–Present Value (PV)\\n•Role of Financial Markets\\n•Objectives of Financial ManagerChapter 1 Introduction to Finance 1-1\\n1 What is Finance?\\n•Finance is about the bottom line of business activities.\\n•Every business is a process of acquiring and disposing assets:\\n–Real assets (tangible and intangible).\\n–Financial assets.\\n•Two objectives of business:\\n–Grow wealth.\\n–Use wealth (assets) to best meet economic needs.\\n•Financially, a business decision reduces to valuation of assets.\\n•Valuation is the central issue of ﬁnance.\\nFall 2006 c/circlecopyrtJ. Wang 15.401 Lecture Notes1-2 Introduction to Finance Chapter 1\\nQuestions we would like to answer in this course:\\n1. How ﬁnancial markets determine asset prices?\\n2. How corporations make ﬁnancial decisions?\\n•Investments:\\n-What projects to invest in?\\n•Financing:\\n-How to ﬁnance a project?\\n•Payout:\\n-What to pay back to shareholders?\\n•Risk management:\\n-What risk to take or to avoid and how?\\n15.401 Lecture Notes c/circlecopyrtJ. Wang Fall 2006Chapter 1 Introduction to Finance 1-3\\n1.1 Cash Flow of A Firm\\nFirm’s\\nOperationsFinancial\\nManagerInvestors\\n– individuals\\n– institutions ...\\x1b(1)\\n\\x1b\\n(4)\\n-\\n(5)\\x1b(2)\\n-\\n(3)\\n(1) Cash raised from investors by selling ﬁnancial assets .\\n(2) Cash invested in real assets (tangible and intangible).\\n(3) Cash generated by operations.(4) Cash reinvested.(5) Cash returned to investors.\\n–mandatory (e.g. loan payments)\\n–discretionary (e.g. dividends)\\nFall 2006 c/circlecopyrtJ. Wang 15.401 Lecture Notes1-4 Introduction to Finance Chapter 1\\n1.2 Task of Financial Manager\\nFirm’s\\nOperationsFinancial\\nManagerInvestors\\n– individuals\\n– institutions ...\\x1b(1)\\n\\x1b\\n(4)\\n-\\n(5)\\x1b(2)\\n-\\n(3)\\nAction: Manage cash ﬂow (1), (2), (4), (5).\\n•Investment: (2) ⇒(3).\\n•Financing and payout: (1), (4), (5).\\n•Risk management: (1) and (5).\\nObjective: Create value for shareholders.\\n15.401 Lecture Notes c/circlecopyrtJ. Wang Fall 2006Chapter 1 Introduction to Finance 1-5\\nTo make sound ﬁnancial decisions, we need to know how to value\\nassets.\\n•Investment decision:\\n/trianglerightsldHow real assets are valued.\\n•Financing and payout:\\n/trianglerightsldHow corporate securities are valued.\\n•Risk management:\\n/trianglerightsldHow ﬁnancial contracts are valued.\\nFall 2006 c/circlecopyrtJ. Wang 15.401 Lecture Notes1-6 Introduction to Finance Chapter 1\\n2 Valuation of Assets\\nEach asset is deﬁned by its cash ﬂow (CF).\\nTime: 01 2 ···\\nCash out: CF0 ·· · · ·\\nCash in: · CF1CF2···\\nNet cash ﬂow: (−)CF0CF1CF2···\\nValue of an asset = Value of its cash ﬂow:\\n2.1 Important Characteristics of A Cash Flow\\n1. Time: time value of money.\\nExample. $1,000 today vs. $1,000 next year.\\n2. Risk: risk premium.\\nExample. $1,000 for sure vs. $0 and $2,000 with equal odds.\\nTime and uncertainty are two key elements in ﬁnance.\\n15.401 Lecture Notes c/circlecopyrtJ. Wang Fall 2006Chapter 1 Introduction to Finance 1-7\\n2.2 Approaches to Asset Valuation\\n1. Valuation by “matching”:\\n(a) The ﬁnancial market contains a rich set of traded assets.\\n(b) Given a CF, ﬁnd a traded asset with equivalent CF:\\n•Timing.\\n•Risk.\\n(c) Value of CF equals the market price of the traded asset.\\nAssets with same payoﬀs have same prices.\\n2. Valuation by analysis of demand/supply (equilibrium).\\nFall 2006 c/circlecopyrtJ. Wang 15.401 Lecture Notes1-8 Introduction to Finance Chapter 1\\n2.3 Opportunity Cost of Capital\\nAn investment is an acquisition of an asset:\\n•Pay cash today.\\n•Receive cash ﬂow in the future.\\nCapital investment trade-oﬀ:\\n1. A ﬁrm can always give cash back to shareholders.\\n2. A shareholder can invest in ﬁnancial markets.\\n'\\n&$\\n%CASH Project\\x1b Share-\\nholder-Investment\\nopportunities\\navailable\\nin ﬁnancial\\nmarkets-\\nInvest Invest Dividend\\nDeﬁnition :Opportunity cost of capital is the expected rate of\\nreturn oﬀered by equivalent investments in ﬁnancial markets.\\n15.401 Lecture Notes c/circlecopyrtJ. Wang Fall 2006Chapter 1 Introduction to Finance 1-9\\n2.4 Present Value\\nExample 1. How much is a sure cash ﬂow of $1,100 in one year\\nworth now?\\nSafe assets in ﬁnancial markets oﬀer 5% annual return.A potential buyer of the sure CF also expects 5% return. Let the\\nprice be\\nX.T h e n\\nX(1 + 0 .05) = 1 ,100.\\nThus,\\nX=1,100\\n1.05=$ 1 ,048\\nwhich is the CF’s present value , i.e., its current market value.\\nObservation : Present value must properly adjust for time.\\nFall 2006 c/circlecopyrtJ. Wang 15.401 Lecture Notes1-10 Introduction to Finance Chapter 1\\nExample 2. How much is a risky cash ﬂow in one year with a\\nforecasted value of $1,100 worth now?\\nAssets of similar risk in ﬁnancial markets oﬀer 20% return.\\nA potential buyer of the risky CF also expects 20% return. Let\\nthe price be X.T h e n\\nX(1 + 0 .20) = 1 ,100.\\nThus, the present value of the risky CF is\\nX=1,100\\n1.20= $917 .\\nObservation : Present value must properly adjust for risk.\\nThe diﬀerence in (expected) return between risky and safe assets\\nis the risk premium .\\nThe present value of an CF equals its expected value discounted\\nat the opportunity cost of captial.\\n15.401 Lecture Notes c/circlecopyrtJ. Wang Fall 2006Chapter 1 Introduction to Finance 1-11\\n3 Role of Financial Markets\\n3.1 Financial Markets at Center of Universe\\n'\\n&$\\n%Financial Markets &\\nFinancial Intermediaries& %Individuals\\n' $\\nFirms\\nFall 2006 c/circlecopyrtJ. Wang 15.401 Lecture Notes1-12 Introduction to Finance Chapter 1\\n•Financial Markets - where ﬁnancial assets are traded\\n- Money markets: Short-term debt securities\\n–Short-term government debt (T-bills, ...)\\n–Short-term bank and corporate debt (CDs, CPs, ...)\\n- Capital markets: Long-term securities\\n–Government debt (T-notes and T-bonds)\\n–Corporate debt\\n–Stocks, ...\\n- Derivatives: Securities with payoﬀs tied to other prices\\n–Forwards and futures\\n–Options, ...\\n•Financial Intermediaries - Own mostly ﬁnancial assets\\n-Banks\\n-Insurance companies\\n-S&Ls\\n-Mutual funds, ...\\n•Corporations - Own mostly real assets\\n•Individuals - Own both real and ﬁnancial assets.\\n15.401 Lecture Notes c/circlecopyrtJ. Wang Fall 2006Chapter 1 Introduction to Finance 1-13\\n3.2 Functions of Financial Markets\\n1. Allocating resources:\\n•Across time.\\nExample – Borrow money to buy a home.\\n•Across diﬀerent states of economy.\\nExample – Invest in stocks/bonds.\\n2. Communicating information.\\n•Market prices reﬂect available information.\\nAssumptions on ﬁnancial markets – A “perfect” ﬁnancial market:\\n-A rich set of securities traded.\\n-Free access.\\n-Competitive trading process.\\n-No frictions.\\nFall 2006 c/circlecopyrtJ. Wang 15.401 Lecture Notes1-14 Introduction to Finance Chapter 1\\n4 Objectives of Financial Manager\\n1. Factors aﬀecting a ﬁrm’s ﬁnancial objective:\\n•Timing?\\n•Risk?\\n•Accounting?\\n•“Long-run” value?\\n•...\\n2. Maximizing current market value is the only plausible ﬁnancial\\nobjective.\\n3. Current market value incorporates present value of all current\\nand future cash ﬂows, adjusted for timing and risk.\\n4. Market value rule is independent of shareholders’ diﬀerences.\\nManager objective: Maximize current market value of the ﬁrm.\\n15.401 Lecture Notes c/circlecopyrtJ. Wang Fall 2006Chapter 1 Introduction to Finance 1-15\\nExample . 50MD is a small company traded on NASDAQ. Three\\nmembers of the founding family, Granny, Father and Son, jointly\\nown a controlling interest. You, as the CEO of 50MD, areevaluating two new business plans, A and B, and conclude:\\n•Both have positive net PVs (NPV) but only one can be taken.\\n•A pays oﬀ in three years and B starts to payoﬀ after ten years.\\n•B is much riskier than A.\\n•B has a higher NPV.\\nYou recommend B over A, but all three shareholders object:\\n1. Granny: “Kid, you missed one thing: I am 85 now and\\nprobably could not wait to see any payoﬀ if we take B.”\\n2. Father: “I just got the membership at my favorite golf club\\nand am set to enjoy. I am not prepared to give that all up.”\\n3. Son: “I have talked to my buddy, who is a reputable analyst\\nof the industry. He says that although your forecast about Bis in agreement with the market consensus, the market is over\\nheated about this line of business and in his view B is a loser.”\\nWhat would you say to them?\\nFall 2006 c/circlecopyrtJ. Wang 15.401 Lecture Notes1-16 Introduction to Finance Chapter 1\\nThe Case for Value Maximization:\\n1. Shareholders’ ﬁnancial objectives:\\n(a) Increase of total wealth\\n(b) Right allocation of wealth over time\\n(c) Right allocation of wealth over future contingencies.\\n2. Shareholders can do (b) and (c) on their own, through ﬁnancial\\nmarkets.\\n3. Financial manager can help only with (a), by increasing ﬁrm’s\\nmarket value (i.e., shareholders’ total wealth).\\n15.401 Lecture Notes c/circlecopyrtJ. Wang Fall 2006Chapter 1 Introduction to Finance 1-17\\nConclusions:\\n1. Managers should maximize ﬁrm’s current market value.\\n2. Shareholder diﬀerences can be settled in ﬁnancial markets by\\ntrading on their own account.\\n3. Perfect ﬁnancial markets allow separation of ownership and\\nmanagement.\\nPractical Issues:\\n•Agency problems\\n-Management may put their own interest ﬁrst.\\n•Other stakeholders\\n-Diﬀerent stakeholders may have conﬂicting interests.\\n•Imperfections in ﬁnancial markets.\\nFall 2006 c/circlecopyrtJ. Wang 15.401 Lecture Notes1-18 Introduction to Finance Chapter 1\\n5 Summary\\nKey Points:\\n1. Objective of managers: maximize ﬁrm’s current market value.\\n2. Evaluating a business boils down to valuation of its assets.3. An asset is deﬁned by its cash ﬂow (CF).4. Two important characteristics of CF: timing and risk.5. Value of assets (CFs) are determined by ﬁnancial markets.6. Cost of capital: Expected return on equivalent investments in\\nﬁnancial markets.\\n7. Present value: Value of a CF is its expected value discounted\\nat the opportunity cost of capital, which adjusts for both timeand risk.\\nKey Assumptions:\\n1. “Perfect” ﬁnancial markets.\\n2. No agency problems and conﬂicts among stackholders.\\n15.401 Lecture Notes c/circlecopyrtJ. Wang Fall 2006Chapter 1 Introduction to Finance 1-19\\n6 Homework\\nReadings:\\n•BKM, Chapters 1, 2, 3.\\n•BMA, Chapters 1, 2.\\nFall 2006 c/circlecopyrtJ. Wang 15.401 Lecture Notes\""
      ]
     },
     "execution_count": 6,
     "metadata": {},
     "output_type": "execute_result"
    }
   ],
   "source": [
    "text"
   ]
  },
  {
   "cell_type": "code",
   "execution_count": 9,
   "metadata": {},
   "outputs": [],
   "source": [
    "cassio.init(token=ASTRA_DB_APPLICATION_TOKEN, database_id=ASTRA_DB_ID)"
   ]
  },
  {
   "cell_type": "code",
   "execution_count": 10,
   "metadata": {},
   "outputs": [
    {
     "name": "stderr",
     "output_type": "stream",
     "text": [
      "c:\\Users\\manun\\AppData\\Local\\Programs\\Python\\Python311\\Lib\\site-packages\\langchain_core\\_api\\deprecation.py:117: LangChainDeprecationWarning: The class `langchain_community.llms.openai.OpenAI` was deprecated in langchain-community 0.0.10 and will be removed in 0.2.0. An updated version of the class exists in the langchain-openai package and should be used instead. To use it run `pip install -U langchain-openai` and import as `from langchain_openai import OpenAI`.\n",
      "  warn_deprecated(\n",
      "c:\\Users\\manun\\AppData\\Local\\Programs\\Python\\Python311\\Lib\\site-packages\\langchain_core\\_api\\deprecation.py:117: LangChainDeprecationWarning: The class `langchain_community.embeddings.openai.OpenAIEmbeddings` was deprecated in langchain-community 0.0.9 and will be removed in 0.2.0. An updated version of the class exists in the langchain-openai package and should be used instead. To use it run `pip install -U langchain-openai` and import as `from langchain_openai import OpenAIEmbeddings`.\n",
      "  warn_deprecated(\n"
     ]
    }
   ],
   "source": [
    "llm = OpenAI(openai_api_key = OPENAI_API_KEY)\n",
    "embedding = OpenAIEmbeddings(openai_api_key = OPENAI_API_KEY)"
   ]
  },
  {
   "cell_type": "code",
   "execution_count": 11,
   "metadata": {},
   "outputs": [],
   "source": [
    "vector_store = Cassandra(\n",
    "    embedding=embedding,\n",
    "    table_name='vector_store',\n",
    "    session=None,\n",
    "    keyspace=None\n",
    ")"
   ]
  },
  {
   "cell_type": "code",
   "execution_count": 12,
   "metadata": {},
   "outputs": [],
   "source": [
    "from langchain.text_splitter import CharacterTextSplitter\n",
    "\n",
    "splitted_text = CharacterTextSplitter(\n",
    "    separator=\"\\n\",\n",
    "    chunk_size = 800,\n",
    "    chunk_overlap =200,\n",
    "    length_function = len\n",
    ")\n",
    "\n",
    "text = splitted_text.split_text(text)"
   ]
  },
  {
   "cell_type": "code",
   "execution_count": 13,
   "metadata": {},
   "outputs": [],
   "source": [
    "vector_store.add_texts(text[:50])\n",
    "vector_index = VectorStoreIndexWrapper(vectorstore=vector_store)"
   ]
  },
  {
   "cell_type": "code",
   "execution_count": 17,
   "metadata": {},
   "outputs": [
    {
     "name": "stdout",
     "output_type": "stream",
     "text": [
      "\n",
      "Question : \"what's the two objective of business\"\n",
      "\n",
      "Answer : \"The two objectives of business are to grow wealth and to use wealth to best meet economic needs.\"\n",
      "\n",
      "Question : \"what is a business\"\n",
      "\n",
      "Answer : \"A business is an organization or enterprise that engages in commercial, industrial, or professional activities with the goal of generating profit. It typically involves the production or sale of goods or services to customers in exchange for money. A business can take many forms, such as a sole proprietorship, partnership, corporation, or non-profit organization, and can operate in various industries and sectors of the economy.\"\n"
     ]
    }
   ],
   "source": [
    "first = True\n",
    "while True:\n",
    "    if first:\n",
    "        ques = input(\"Enter your question (type q to exit)\")\n",
    "    else:\n",
    "        ques = input(\"What's your next question (type q to exit)\")\n",
    "    if ques.lower() == \"q\":\n",
    "        break\n",
    "    if ques == \"\":\n",
    "        continue\n",
    "\n",
    "    first = False\n",
    "\n",
    "    print(\"\\nQuestion : \\\"%s\\\"\"% ques)\n",
    "    answer = vector_index.query(ques,llm=llm).strip()\n",
    "\n",
    "    print(\"\\nAnswer : \\\"%s\\\"\"% answer)    \n",
    "    \n"
   ]
  }
 ],
 "metadata": {
  "kernelspec": {
   "display_name": "Python 3",
   "language": "python",
   "name": "python3"
  },
  "language_info": {
   "codemirror_mode": {
    "name": "ipython",
    "version": 3
   },
   "file_extension": ".py",
   "mimetype": "text/x-python",
   "name": "python",
   "nbconvert_exporter": "python",
   "pygments_lexer": "ipython3",
   "version": "3.11.1"
  }
 },
 "nbformat": 4,
 "nbformat_minor": 2
}
